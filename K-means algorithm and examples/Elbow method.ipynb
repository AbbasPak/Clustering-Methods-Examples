{
 "cells": [
  {
   "cell_type": "markdown",
   "id": "eee83cd4",
   "metadata": {},
   "source": [
    "# Example of employing Elbow method"
   ]
  },
  {
   "cell_type": "code",
   "execution_count": 12,
   "id": "9bcb1f94",
   "metadata": {},
   "outputs": [],
   "source": [
    "import pandas as pd\n",
    "import numpy as np\n",
    "import matplotlib.pyplot as plt\n",
    "import seaborn as sns\n",
    "from sklearn.preprocessing import StandardScaler\n",
    "import warnings\n",
    "warnings.filterwarnings('ignore')\n",
    "from sklearn.cluster import KMeans"
   ]
  },
  {
   "cell_type": "code",
   "execution_count": 3,
   "id": "67134f93",
   "metadata": {},
   "outputs": [],
   "source": [
    "df = pd.read_excel('Book1.xlsx')"
   ]
  },
  {
   "cell_type": "code",
   "execution_count": 4,
   "id": "16a4f67f",
   "metadata": {},
   "outputs": [
    {
     "data": {
      "text/html": [
       "<div>\n",
       "<style scoped>\n",
       "    .dataframe tbody tr th:only-of-type {\n",
       "        vertical-align: middle;\n",
       "    }\n",
       "\n",
       "    .dataframe tbody tr th {\n",
       "        vertical-align: top;\n",
       "    }\n",
       "\n",
       "    .dataframe thead th {\n",
       "        text-align: right;\n",
       "    }\n",
       "</style>\n",
       "<table border=\"1\" class=\"dataframe\">\n",
       "  <thead>\n",
       "    <tr style=\"text-align: right;\">\n",
       "      <th></th>\n",
       "      <th>treatments</th>\n",
       "      <th>frulic</th>\n",
       "      <th>cafeic</th>\n",
       "      <th>hysperidin</th>\n",
       "      <th>Rosmarinic</th>\n",
       "      <th>quercitin</th>\n",
       "      <th>kamferol</th>\n",
       "      <th>luteulin</th>\n",
       "      <th>apigenin</th>\n",
       "      <th>EL</th>\n",
       "      <th>DPPH</th>\n",
       "      <th>TFC</th>\n",
       "      <th>TPC</th>\n",
       "      <th>PAL gene</th>\n",
       "      <th>PAL activity</th>\n",
       "      <th>Chl a</th>\n",
       "      <th>Chl b</th>\n",
       "      <th>Car</th>\n",
       "      <th>Biomass</th>\n",
       "    </tr>\n",
       "  </thead>\n",
       "  <tbody>\n",
       "    <tr>\n",
       "      <th>0</th>\n",
       "      <td>control</td>\n",
       "      <td>10.21</td>\n",
       "      <td>9.78</td>\n",
       "      <td>14.57</td>\n",
       "      <td>1532</td>\n",
       "      <td>17.75</td>\n",
       "      <td>21.60</td>\n",
       "      <td>16.15</td>\n",
       "      <td>5.86</td>\n",
       "      <td>10.03</td>\n",
       "      <td>56.40</td>\n",
       "      <td>0.48</td>\n",
       "      <td>3.34</td>\n",
       "      <td>1.00</td>\n",
       "      <td>7.60</td>\n",
       "      <td>2.61</td>\n",
       "      <td>0.99</td>\n",
       "      <td>0.61</td>\n",
       "      <td>1.50</td>\n",
       "    </tr>\n",
       "    <tr>\n",
       "      <th>1</th>\n",
       "      <td>laser</td>\n",
       "      <td>15.52</td>\n",
       "      <td>8.71</td>\n",
       "      <td>16.09</td>\n",
       "      <td>1785</td>\n",
       "      <td>21.95</td>\n",
       "      <td>25.18</td>\n",
       "      <td>18.06</td>\n",
       "      <td>6.34</td>\n",
       "      <td>10.36</td>\n",
       "      <td>63.70</td>\n",
       "      <td>0.66</td>\n",
       "      <td>5.26</td>\n",
       "      <td>4.27</td>\n",
       "      <td>10.56</td>\n",
       "      <td>2.97</td>\n",
       "      <td>1.24</td>\n",
       "      <td>0.71</td>\n",
       "      <td>1.60</td>\n",
       "    </tr>\n",
       "    <tr>\n",
       "      <th>2</th>\n",
       "      <td>peroxid</td>\n",
       "      <td>17.18</td>\n",
       "      <td>11.87</td>\n",
       "      <td>14.81</td>\n",
       "      <td>1822</td>\n",
       "      <td>21.92</td>\n",
       "      <td>27.44</td>\n",
       "      <td>18.93</td>\n",
       "      <td>11.70</td>\n",
       "      <td>11.96</td>\n",
       "      <td>64.30</td>\n",
       "      <td>0.70</td>\n",
       "      <td>4.40</td>\n",
       "      <td>3.16</td>\n",
       "      <td>12.77</td>\n",
       "      <td>2.95</td>\n",
       "      <td>1.01</td>\n",
       "      <td>0.78</td>\n",
       "      <td>1.80</td>\n",
       "    </tr>\n",
       "    <tr>\n",
       "      <th>3</th>\n",
       "      <td>LP</td>\n",
       "      <td>15.36</td>\n",
       "      <td>11.09</td>\n",
       "      <td>16.53</td>\n",
       "      <td>2294</td>\n",
       "      <td>23.30</td>\n",
       "      <td>28.87</td>\n",
       "      <td>21.81</td>\n",
       "      <td>10.06</td>\n",
       "      <td>11.73</td>\n",
       "      <td>73.63</td>\n",
       "      <td>0.93</td>\n",
       "      <td>7.15</td>\n",
       "      <td>6.70</td>\n",
       "      <td>17.40</td>\n",
       "      <td>3.40</td>\n",
       "      <td>1.45</td>\n",
       "      <td>0.82</td>\n",
       "      <td>1.97</td>\n",
       "    </tr>\n",
       "    <tr>\n",
       "      <th>4</th>\n",
       "      <td>Salt</td>\n",
       "      <td>14.60</td>\n",
       "      <td>10.11</td>\n",
       "      <td>16.43</td>\n",
       "      <td>1822</td>\n",
       "      <td>19.35</td>\n",
       "      <td>23.63</td>\n",
       "      <td>18.81</td>\n",
       "      <td>11.55</td>\n",
       "      <td>30.93</td>\n",
       "      <td>61.63</td>\n",
       "      <td>0.67</td>\n",
       "      <td>5.37</td>\n",
       "      <td>4.26</td>\n",
       "      <td>16.33</td>\n",
       "      <td>1.25</td>\n",
       "      <td>0.55</td>\n",
       "      <td>0.89</td>\n",
       "      <td>0.70</td>\n",
       "    </tr>\n",
       "  </tbody>\n",
       "</table>\n",
       "</div>"
      ],
      "text/plain": [
       "  treatments   frulic   cafeic  hysperidin  Rosmarinic   quercitin   kamferol  \\\n",
       "0   control     10.21     9.78       14.57        1532       17.75      21.60   \n",
       "1      laser    15.52     8.71       16.09        1785       21.95      25.18   \n",
       "2   peroxid     17.18    11.87       14.81        1822       21.92      27.44   \n",
       "3         LP    15.36    11.09       16.53        2294       23.30      28.87   \n",
       "4      Salt     14.60    10.11       16.43        1822       19.35      23.63   \n",
       "\n",
       "    luteulin  apigenin     EL   DPPH   TFC   TPC  PAL gene  PAL activity  \\\n",
       "0      16.15      5.86  10.03  56.40  0.48  3.34      1.00          7.60   \n",
       "1      18.06      6.34  10.36  63.70  0.66  5.26      4.27         10.56   \n",
       "2      18.93     11.70  11.96  64.30  0.70  4.40      3.16         12.77   \n",
       "3      21.81     10.06  11.73  73.63  0.93  7.15      6.70         17.40   \n",
       "4      18.81     11.55  30.93  61.63  0.67  5.37      4.26         16.33   \n",
       "\n",
       "   Chl a  Chl b   Car  Biomass  \n",
       "0   2.61   0.99  0.61     1.50  \n",
       "1   2.97   1.24  0.71     1.60  \n",
       "2   2.95   1.01  0.78     1.80  \n",
       "3   3.40   1.45  0.82     1.97  \n",
       "4   1.25   0.55  0.89     0.70  "
      ]
     },
     "execution_count": 4,
     "metadata": {},
     "output_type": "execute_result"
    }
   ],
   "source": [
    "df.head()"
   ]
  },
  {
   "cell_type": "code",
   "execution_count": 5,
   "id": "2672b0f9",
   "metadata": {},
   "outputs": [],
   "source": [
    "df=df.drop('treatments', axis=1)"
   ]
  },
  {
   "cell_type": "code",
   "execution_count": 6,
   "id": "11ba0d7b",
   "metadata": {},
   "outputs": [],
   "source": [
    "col_names =df.columns"
   ]
  },
  {
   "cell_type": "code",
   "execution_count": 9,
   "id": "c12d91d5",
   "metadata": {},
   "outputs": [],
   "source": [
    "scaler = StandardScaler().fit(df.values)\n",
    "features = scaler.transform(df.values)\n",
    "newdf = pd.DataFrame(features, columns = col_names)\n"
   ]
  },
  {
   "cell_type": "code",
   "execution_count": 13,
   "id": "ee87bd48",
   "metadata": {},
   "outputs": [
    {
     "data": {
      "text/plain": [
       "Text(0, 0.5, 'Inertia')"
      ]
     },
     "execution_count": 13,
     "metadata": {},
     "output_type": "execute_result"
    },
    {
     "data": {
      "image/png": "[encoded data removed]",
      "text/plain": [
       "<Figure size 1200x600 with 1 Axes>"
      ]
     },
     "metadata": {},
     "output_type": "display_data"
    }
   ],
   "source": [
    "SSE = []\n",
    "\n",
    "for cluster in range(1,8):\n",
    "    kmeans = KMeans( n_clusters = cluster, init='k-means++')\n",
    "    kmeans.fit(newdf)\n",
    "    SSE.append(kmeans.inertia_)\n",
    "\n",
    "# converting the results into a dataframe and plotting them\n",
    "\n",
    "frame = pd.DataFrame({'Cluster':range(1,8), 'SSE':SSE})\n",
    "plt.figure(figsize=(12,6))\n",
    "plt.plot(frame['Cluster'], frame['SSE'], marker='o')\n",
    "plt.xlabel('Number of clusters')\n",
    "plt.ylabel('Inertia')"
   ]
  },
  {
   "cell_type": "markdown",
   "id": "03831fa1",
   "metadata": {},
   "source": [
    "<div class=\"alert alert-block alert-info\">\n",
    "<b></b> \n",
    "\n",
    "The point on the plot where the Inertia starts to decrease at a slower rate can be considered the elbow of the plot. The corresponding value of k at this point is considered the optimal number of clusters. Here, n=4 clusters could be suitable choice.\n",
    "</div>"
   ]
  },
  {
   "cell_type": "code",
   "execution_count": null,
   "id": "d46feb3e",
   "metadata": {},
   "outputs": [],
   "source": []
  }
 ],
 "metadata": {
  "kernelspec": {
   "display_name": "Python 3 (ipykernel)",
   "language": "python",
   "name": "python3"
  },
  "language_info": {
   "codemirror_mode": {
    "name": "ipython",
    "version": 3
   },
   "file_extension": ".py",
   "mimetype": "text/x-python",
   "name": "python",
   "nbconvert_exporter": "python",
   "pygments_lexer": "ipython3",
   "version": "3.11.3"
  }
 },
 "nbformat": 4,
 "nbformat_minor": 5
}
